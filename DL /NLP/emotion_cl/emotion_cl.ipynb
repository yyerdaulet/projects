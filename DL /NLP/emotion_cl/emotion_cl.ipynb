{
 "cells": [
  {
   "cell_type": "code",
   "id": "initial_id",
   "metadata": {
    "collapsed": true,
    "ExecuteTime": {
     "end_time": "2025-05-18T13:00:42.932552Z",
     "start_time": "2025-05-18T13:00:33.724939Z"
    }
   },
   "source": [
    "from sklearn.feature_extraction.text import TfidfVectorizer as tfdV\n",
    "from nltk.corpus import stopwords \n",
    "import pandas as pd\n",
    "import nltk \n",
    "import re\n",
    "splits = {'train': 'simplified/train-00000-of-00001.parquet', 'validation': 'simplified/validation-00000-of-00001.parquet', 'test': 'simplified/test-00000-of-00001.parquet'}\n",
    "train  = pd.read_parquet(\"hf://datasets/google-research-datasets/go_emotions/\" + splits[\"train\"])\n",
    "validation = pd.read_parquet(\"hf://datasets/google-research-datasets/go_emotions/\" + splits[\"validation\"])\n",
    "test = pd.read_parquet(\"hf://datasets/google-research-datasets/go_emotions/\" + splits[\"test\"])"
   ],
   "outputs": [],
   "execution_count": 114
  },
  {
   "metadata": {
    "ExecuteTime": {
     "end_time": "2025-05-18T13:00:48.322943Z",
     "start_time": "2025-05-18T13:00:47.647965Z"
    }
   },
   "cell_type": "code",
   "source": [
    "nltk.download('stopwords')\n",
    "stop_words = set(stopwords.words('english'))"
   ],
   "id": "a3ce318096c1858a",
   "outputs": [
    {
     "name": "stderr",
     "output_type": "stream",
     "text": [
      "[nltk_data] Downloading package stopwords to\n",
      "[nltk_data]     /Users/erdaulet/nltk_data...\n",
      "[nltk_data]   Package stopwords is already up-to-date!\n"
     ]
    }
   ],
   "execution_count": 115
  },
  {
   "metadata": {},
   "cell_type": "code",
   "source": [
    "def preprocess(text):\n",
    "    text = text.lower()\n",
    "    text = re.sub(r'[^\\w\\s]', '', text)\n",
    "    tokens = text.split()\n",
    "    tokens = [word for word in tokens if word not in stop_words]\n",
    "    return ' '.join(tokens)"
   ],
   "id": "a7abb67fd2a2bfed",
   "outputs": [],
   "execution_count": 116
  },
  {
   "metadata": {
    "ExecuteTime": {
     "end_time": "2025-05-18T13:04:39.956435Z",
     "start_time": "2025-05-18T13:04:39.931230Z"
    }
   },
   "cell_type": "code",
   "source": "train",
   "id": "cb8d2fd862aa53f0",
   "outputs": [
    {
     "data": {
      "text/plain": [
       "                                                                                                                               text  \\\n",
       "0                                                                       My favourite food is anything I didn't have to cook myself.   \n",
       "1                  Now if he does off himself, everyone will think hes having a laugh screwing with people instead of actually dead   \n",
       "2                                                                                                    WHY THE FUCK IS BAYLESS ISOING   \n",
       "3                                                                                                       To make her feel threatened   \n",
       "4                                                                                                            Dirty Southern Wankers   \n",
       "...                                                                                                                             ...   \n",
       "43405  Added you mate well I’ve just got the bow and I love the hunting aspect of the game so happily join you hunting and what not   \n",
       "43406                                                              Always thought that was funny but is it a reference to anything?   \n",
       "43407                 What are you talking about? Anything bad that happened was [NAME] fault - only good things were [NAME] doing!   \n",
       "43408                                                                                       More like a baptism, with sexy results!   \n",
       "43409                                                                                                               Enjoy the ride!   \n",
       "\n",
       "      labels       id  \\\n",
       "0       [27]  eebbqej   \n",
       "1       [27]  ed00q6i   \n",
       "2        [2]  eezlygj   \n",
       "3       [14]  ed7ypvh   \n",
       "4        [3]  ed0bdzj   \n",
       "...      ...      ...   \n",
       "43405   [18]  edsb738   \n",
       "43406    [6]  ee7fdou   \n",
       "43407    [3]  efgbhks   \n",
       "43408   [13]  ed1naf8   \n",
       "43409   [17]  eecwmbq   \n",
       "\n",
       "                                                                    cleaned_text  \n",
       "0                                             favourite food anything didnt cook  \n",
       "1                 everyone think hes laugh screwing people instead actually dead  \n",
       "2                                                            fuck bayless isoing  \n",
       "3                                                           make feel threatened  \n",
       "4                                                         dirty southern wankers  \n",
       "...                                                                          ...  \n",
       "43405  added mate well ive got bow love hunting aspect game happily join hunting  \n",
       "43406                                    always thought funny reference anything  \n",
       "43407                  talking anything bad happened name fault good things name  \n",
       "43408                                                  like baptism sexy results  \n",
       "43409                                                                 enjoy ride  \n",
       "\n",
       "[43410 rows x 4 columns]"
      ],
      "text/html": [
       "<div>\n",
       "<style scoped>\n",
       "    .dataframe tbody tr th:only-of-type {\n",
       "        vertical-align: middle;\n",
       "    }\n",
       "\n",
       "    .dataframe tbody tr th {\n",
       "        vertical-align: top;\n",
       "    }\n",
       "\n",
       "    .dataframe thead th {\n",
       "        text-align: right;\n",
       "    }\n",
       "</style>\n",
       "<table border=\"1\" class=\"dataframe\">\n",
       "  <thead>\n",
       "    <tr style=\"text-align: right;\">\n",
       "      <th></th>\n",
       "      <th>text</th>\n",
       "      <th>labels</th>\n",
       "      <th>id</th>\n",
       "      <th>cleaned_text</th>\n",
       "    </tr>\n",
       "  </thead>\n",
       "  <tbody>\n",
       "    <tr>\n",
       "      <th>0</th>\n",
       "      <td>My favourite food is anything I didn't have to cook myself.</td>\n",
       "      <td>[27]</td>\n",
       "      <td>eebbqej</td>\n",
       "      <td>favourite food anything didnt cook</td>\n",
       "    </tr>\n",
       "    <tr>\n",
       "      <th>1</th>\n",
       "      <td>Now if he does off himself, everyone will think hes having a laugh screwing with people instead of actually dead</td>\n",
       "      <td>[27]</td>\n",
       "      <td>ed00q6i</td>\n",
       "      <td>everyone think hes laugh screwing people instead actually dead</td>\n",
       "    </tr>\n",
       "    <tr>\n",
       "      <th>2</th>\n",
       "      <td>WHY THE FUCK IS BAYLESS ISOING</td>\n",
       "      <td>[2]</td>\n",
       "      <td>eezlygj</td>\n",
       "      <td>fuck bayless isoing</td>\n",
       "    </tr>\n",
       "    <tr>\n",
       "      <th>3</th>\n",
       "      <td>To make her feel threatened</td>\n",
       "      <td>[14]</td>\n",
       "      <td>ed7ypvh</td>\n",
       "      <td>make feel threatened</td>\n",
       "    </tr>\n",
       "    <tr>\n",
       "      <th>4</th>\n",
       "      <td>Dirty Southern Wankers</td>\n",
       "      <td>[3]</td>\n",
       "      <td>ed0bdzj</td>\n",
       "      <td>dirty southern wankers</td>\n",
       "    </tr>\n",
       "    <tr>\n",
       "      <th>...</th>\n",
       "      <td>...</td>\n",
       "      <td>...</td>\n",
       "      <td>...</td>\n",
       "      <td>...</td>\n",
       "    </tr>\n",
       "    <tr>\n",
       "      <th>43405</th>\n",
       "      <td>Added you mate well I’ve just got the bow and I love the hunting aspect of the game so happily join you hunting and what not</td>\n",
       "      <td>[18]</td>\n",
       "      <td>edsb738</td>\n",
       "      <td>added mate well ive got bow love hunting aspect game happily join hunting</td>\n",
       "    </tr>\n",
       "    <tr>\n",
       "      <th>43406</th>\n",
       "      <td>Always thought that was funny but is it a reference to anything?</td>\n",
       "      <td>[6]</td>\n",
       "      <td>ee7fdou</td>\n",
       "      <td>always thought funny reference anything</td>\n",
       "    </tr>\n",
       "    <tr>\n",
       "      <th>43407</th>\n",
       "      <td>What are you talking about? Anything bad that happened was [NAME] fault - only good things were [NAME] doing!</td>\n",
       "      <td>[3]</td>\n",
       "      <td>efgbhks</td>\n",
       "      <td>talking anything bad happened name fault good things name</td>\n",
       "    </tr>\n",
       "    <tr>\n",
       "      <th>43408</th>\n",
       "      <td>More like a baptism, with sexy results!</td>\n",
       "      <td>[13]</td>\n",
       "      <td>ed1naf8</td>\n",
       "      <td>like baptism sexy results</td>\n",
       "    </tr>\n",
       "    <tr>\n",
       "      <th>43409</th>\n",
       "      <td>Enjoy the ride!</td>\n",
       "      <td>[17]</td>\n",
       "      <td>eecwmbq</td>\n",
       "      <td>enjoy ride</td>\n",
       "    </tr>\n",
       "  </tbody>\n",
       "</table>\n",
       "<p>43410 rows × 4 columns</p>\n",
       "</div>"
      ]
     },
     "execution_count": 129,
     "metadata": {},
     "output_type": "execute_result"
    }
   ],
   "execution_count": 129
  },
  {
   "metadata": {
    "ExecuteTime": {
     "end_time": "2025-05-18T13:00:54.623246Z",
     "start_time": "2025-05-18T13:00:54.140815Z"
    }
   },
   "cell_type": "code",
   "source": [
    "train['cleaned_text'] = train['text'].apply(preprocess)\n",
    "validation['cleaned_text'] = validation['text'].apply(preprocess)\n",
    "test['cleaned_text'] = test['text'].apply(preprocess)"
   ],
   "id": "6cdee5432c27df49",
   "outputs": [],
   "execution_count": 117
  }
 ],
 "metadata": {
  "kernelspec": {
   "display_name": "Python 3",
   "language": "python",
   "name": "python3"
  },
  "language_info": {
   "codemirror_mode": {
    "name": "ipython",
    "version": 2
   },
   "file_extension": ".py",
   "mimetype": "text/x-python",
   "name": "python",
   "nbconvert_exporter": "python",
   "pygments_lexer": "ipython2",
   "version": "2.7.6"
  }
 },
 "nbformat": 4,
 "nbformat_minor": 5
}
