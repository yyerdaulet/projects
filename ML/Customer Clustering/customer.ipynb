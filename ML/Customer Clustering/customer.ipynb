{
 "cells": [
  {
   "cell_type": "code",
   "id": "initial_id",
   "metadata": {
    "collapsed": true,
    "ExecuteTime": {
     "end_time": "2025-05-11T14:04:04.101329Z",
     "start_time": "2025-05-11T14:04:03.447605Z"
    }
   },
   "source": "import pandas as pd ",
   "outputs": [],
   "execution_count": 1
  },
  {
   "metadata": {
    "ExecuteTime": {
     "end_time": "2025-05-11T14:05:03.367470Z",
     "start_time": "2025-05-11T14:05:03.310995Z"
    }
   },
   "cell_type": "code",
   "source": "df = pd.read_csv('segmentation data.csv')",
   "id": "e7446895482bbc4f",
   "outputs": [],
   "execution_count": 2
  },
  {
   "metadata": {
    "ExecuteTime": {
     "end_time": "2025-05-11T14:05:25.167494Z",
     "start_time": "2025-05-11T14:05:25.150887Z"
    }
   },
   "cell_type": "code",
   "source": "df.shape",
   "id": "9f966b76d9c3b7cb",
   "outputs": [
    {
     "data": {
      "text/plain": [
       "(2000, 8)"
      ]
     },
     "execution_count": 4,
     "metadata": {},
     "output_type": "execute_result"
    }
   ],
   "execution_count": 4
  },
  {
   "metadata": {
    "ExecuteTime": {
     "end_time": "2025-05-11T14:06:02.610702Z",
     "start_time": "2025-05-11T14:06:02.589664Z"
    }
   },
   "cell_type": "code",
   "source": "df.drop(['ID'], axis=1, inplace=True)",
   "id": "bdc6a07dc7167ca3",
   "outputs": [],
   "execution_count": 5
  },
  {
   "metadata": {
    "ExecuteTime": {
     "end_time": "2025-05-11T14:08:53.076629Z",
     "start_time": "2025-05-11T14:08:53.061233Z"
    }
   },
   "cell_type": "code",
   "source": "columns = df.columns ",
   "id": "704632db4804a030",
   "outputs": [],
   "execution_count": 7
  },
  {
   "metadata": {
    "ExecuteTime": {
     "end_time": "2025-05-11T14:19:01.028518Z",
     "start_time": "2025-05-11T14:19:01.015195Z"
    }
   },
   "cell_type": "code",
   "source": "df.rename(columns={'Sex' : 'is_women'},inplace=True)",
   "id": "1fb4c796ec800744",
   "outputs": [],
   "execution_count": 19
  },
  {
   "metadata": {
    "ExecuteTime": {
     "end_time": "2025-05-11T14:20:41.335728Z",
     "start_time": "2025-05-11T14:20:41.329953Z"
    }
   },
   "cell_type": "code",
   "source": "df.rename(columns={'Marital status': 'is_married'},inplace=True)",
   "id": "d0fba3eea91e999e",
   "outputs": [],
   "execution_count": 26
  },
  {
   "metadata": {
    "ExecuteTime": {
     "end_time": "2025-05-11T14:11:30.763407Z",
     "start_time": "2025-05-11T14:11:30.745427Z"
    }
   },
   "cell_type": "code",
   "source": [
    "for column in columns:\n",
    "    print(f\"{column}:\\n{df[column].value_counts()}\")\n",
    "    print(f\"Nulls : {df[column].isnull().sum()}\\n\")"
   ],
   "id": "629f350387c4e477",
   "outputs": [
    {
     "name": "stdout",
     "output_type": "stream",
     "text": [
      "Sex:\n",
      "0    1086\n",
      "1     914\n",
      "Name: Sex, dtype: int64\n",
      "Nulls : 0\n",
      "\n",
      "Marital status:\n",
      "0    1007\n",
      "1     993\n",
      "Name: Marital status, dtype: int64\n",
      "Nulls : 0\n",
      "\n",
      "Age:\n",
      "26    116\n",
      "27    111\n",
      "25     88\n",
      "24     83\n",
      "28     80\n",
      "35     79\n",
      "23     77\n",
      "31     76\n",
      "36     73\n",
      "29     70\n",
      "30     70\n",
      "32     67\n",
      "33     66\n",
      "34     60\n",
      "40     58\n",
      "37     56\n",
      "38     51\n",
      "22     49\n",
      "42     48\n",
      "39     40\n",
      "46     35\n",
      "21     34\n",
      "41     33\n",
      "43     33\n",
      "45     31\n",
      "44     30\n",
      "49     29\n",
      "48     29\n",
      "47     26\n",
      "50     23\n",
      "20     23\n",
      "57     20\n",
      "52     19\n",
      "51     19\n",
      "54     17\n",
      "53     16\n",
      "63     15\n",
      "64     14\n",
      "60     13\n",
      "61     13\n",
      "58     12\n",
      "65     12\n",
      "56     10\n",
      "55     10\n",
      "67     10\n",
      "66      9\n",
      "62      8\n",
      "68      7\n",
      "71      5\n",
      "19      5\n",
      "59      5\n",
      "74      4\n",
      "18      3\n",
      "70      3\n",
      "73      3\n",
      "75      2\n",
      "72      1\n",
      "76      1\n",
      "Name: Age, dtype: int64\n",
      "Nulls : 0\n",
      "\n",
      "Education:\n",
      "1    1386\n",
      "2     291\n",
      "0     287\n",
      "3      36\n",
      "Name: Education, dtype: int64\n",
      "Nulls : 0\n",
      "\n",
      "Income:\n",
      "134377    2\n",
      "136812    2\n",
      "112227    2\n",
      "145174    2\n",
      "170113    2\n",
      "         ..\n",
      "101074    1\n",
      "53608     1\n",
      "119511    1\n",
      "135567    1\n",
      "129027    1\n",
      "Name: Income, Length: 1982, dtype: int64\n",
      "Nulls : 0\n",
      "\n",
      "Occupation:\n",
      "1    1113\n",
      "0     633\n",
      "2     254\n",
      "Name: Occupation, dtype: int64\n",
      "Nulls : 0\n",
      "\n",
      "Settlement size:\n",
      "0    989\n",
      "1    544\n",
      "2    467\n",
      "Name: Settlement size, dtype: int64\n",
      "Nulls : 0\n",
      "\n"
     ]
    }
   ],
   "execution_count": 11
  },
  {
   "metadata": {
    "ExecuteTime": {
     "end_time": "2025-05-11T16:48:13.740353Z",
     "start_time": "2025-05-11T16:48:13.712869Z"
    }
   },
   "cell_type": "code",
   "source": "X = df[['Occupation','Income',]].values",
   "id": "962939462e49a0d4",
   "outputs": [],
   "execution_count": 192
  },
  {
   "metadata": {
    "ExecuteTime": {
     "end_time": "2025-05-11T16:48:15.407780Z",
     "start_time": "2025-05-11T16:48:15.308074Z"
    }
   },
   "cell_type": "code",
   "source": [
    "from sklearn.cluster import KMeans \n",
    "kmeans = KMeans(n_clusters=4,random_state=0)\n",
    "kmeans.fit(X)"
   ],
   "id": "69555f37e55c834a",
   "outputs": [
    {
     "data": {
      "text/plain": [
       "KMeans(n_clusters=4, random_state=0)"
      ]
     },
     "execution_count": 193,
     "metadata": {},
     "output_type": "execute_result"
    }
   ],
   "execution_count": 193
  },
  {
   "metadata": {
    "ExecuteTime": {
     "end_time": "2025-05-11T16:48:16.457666Z",
     "start_time": "2025-05-11T16:48:16.451536Z"
    }
   },
   "cell_type": "code",
   "source": "df['Cluster'] = kmeans.labels_",
   "id": "ff771e1e440c3373",
   "outputs": [],
   "execution_count": 194
  },
  {
   "metadata": {
    "ExecuteTime": {
     "end_time": "2025-05-11T16:48:17.871152Z",
     "start_time": "2025-05-11T16:48:17.866041Z"
    }
   },
   "cell_type": "code",
   "source": [
    "labels = kmeans.labels_\n",
    "centers = kmeans.cluster_centers_"
   ],
   "id": "fc19e99590506e63",
   "outputs": [],
   "execution_count": 195
  },
  {
   "metadata": {
    "ExecuteTime": {
     "end_time": "2025-05-11T16:48:18.913175Z",
     "start_time": "2025-05-11T16:48:18.905215Z"
    }
   },
   "cell_type": "code",
   "source": "df.columns",
   "id": "46b8698b1f161ff5",
   "outputs": [
    {
     "data": {
      "text/plain": [
       "Index(['is_women', 'is_married', 'Age', 'Education', 'Income', 'Occupation',\n",
       "       'Settlement size', 'Cluster'],\n",
       "      dtype='object')"
      ]
     },
     "execution_count": 196,
     "metadata": {},
     "output_type": "execute_result"
    }
   ],
   "execution_count": 196
  },
  {
   "metadata": {
    "ExecuteTime": {
     "end_time": "2025-05-11T16:49:37.663608Z",
     "start_time": "2025-05-11T16:49:37.404549Z"
    }
   },
   "cell_type": "code",
   "source": [
    "import matplotlib.pyplot as plt \n",
    "plt.figure(figsize=(8, 6))\n",
    "plt.scatter(X[:, 0], X[:, 1], c=labels, cmap='viridis', s=30, alpha=0.6)\n",
    "plt.scatter(centers[:, 0], centers[:, 1], c='red', s=200, marker='X', label='Center')\n",
    "plt.title(\"K-Means\")\n",
    "plt.xlabel(\"Occupation\")\n",
    "plt.ylabel(\"Income\")\n",
    "plt.legend()\n",
    "plt.grid(True)\n",
    "plt.show()"
   ],
   "id": "7ac990c3cf970a8c",
   "outputs": [
    {
     "data": {
      "text/plain": [
       "<Figure size 800x600 with 1 Axes>"
      ],
      "image/png": "[encoded data removed]"
     },
     "metadata": {},
     "output_type": "display_data"
    }
   ],
   "execution_count": 198
  }
 ],
 "metadata": {
  "kernelspec": {
   "display_name": "Python 3",
   "language": "python",
   "name": "python3"
  },
  "language_info": {
   "codemirror_mode": {
    "name": "ipython",
    "version": 2
   },
   "file_extension": ".py",
   "mimetype": "text/x-python",
   "name": "python",
   "nbconvert_exporter": "python",
   "pygments_lexer": "ipython2",
   "version": "2.7.6"
  }
 },
 "nbformat": 4,
 "nbformat_minor": 5
}
