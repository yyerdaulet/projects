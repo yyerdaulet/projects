{
 "cells": [
  {
   "cell_type": "code",
   "id": "initial_id",
   "metadata": {
    "collapsed": true,
    "ExecuteTime": {
     "end_time": "2025-05-19T21:53:33.944593Z",
     "start_time": "2025-05-19T21:53:33.941428Z"
    }
   },
   "source": "import pandas as pd",
   "outputs": [],
   "execution_count": 4
  },
  {
   "metadata": {
    "ExecuteTime": {
     "end_time": "2025-05-19T21:53:35.377856Z",
     "start_time": "2025-05-19T21:53:34.903350Z"
    }
   },
   "cell_type": "code",
   "source": "df = pd.read_csv('fake_news_dataset.csv')",
   "id": "93c4ca88f9fb5cb0",
   "outputs": [],
   "execution_count": 5
  },
  {
   "metadata": {
    "ExecuteTime": {
     "end_time": "2025-05-19T21:53:36.401158Z",
     "start_time": "2025-05-19T21:53:36.391047Z"
    }
   },
   "cell_type": "code",
   "source": "df.drop(['date'],axis=1,inplace=True)",
   "id": "b789357e5f4ed7cc",
   "outputs": [],
   "execution_count": 6
  },
  {
   "metadata": {
    "ExecuteTime": {
     "end_time": "2025-05-19T21:54:11.217560Z",
     "start_time": "2025-05-19T21:54:11.206373Z"
    }
   },
   "cell_type": "code",
   "source": "columns = df.drop(['title','text','label'],axis=1).columns",
   "id": "bd8c581bdec6ec6d",
   "outputs": [],
   "execution_count": 11
  },
  {
   "metadata": {
    "ExecuteTime": {
     "end_time": "2025-05-19T21:53:39.909071Z",
     "start_time": "2025-05-19T21:53:39.889974Z"
    }
   },
   "cell_type": "code",
   "source": "df = df.dropna()",
   "id": "e5c33ba2a0fcfeb5",
   "outputs": [],
   "execution_count": 8
  },
  {
   "metadata": {
    "ExecuteTime": {
     "end_time": "2025-05-19T21:53:41.223471Z",
     "start_time": "2025-05-19T21:53:41.218036Z"
    }
   },
   "cell_type": "code",
   "source": "df.drop(['author'],axis=1,inplace=True)",
   "id": "d3e218b76ff9eceb",
   "outputs": [],
   "execution_count": 9
  },
  {
   "metadata": {
    "ExecuteTime": {
     "end_time": "2025-05-19T21:54:12.420797Z",
     "start_time": "2025-05-19T21:54:12.405379Z"
    }
   },
   "cell_type": "code",
   "source": [
    "for column in columns:\n",
    "    print(f\"column:\\n{df[column].value_counts()}\")\n",
    "    print(f\"is_null:{df[column].isnull().sum()}\\n\")"
   ],
   "id": "3d6fd8d537da7e89",
   "outputs": [
    {
     "name": "stdout",
     "output_type": "stream",
     "text": [
      "column:\n",
      "source\n",
      "Daily News      2316\n",
      "BBC             2280\n",
      "CNN             2267\n",
      "The Guardian    2254\n",
      "Fox News        2251\n",
      "NY Times        2242\n",
      "Reuters         2239\n",
      "Global Times    2196\n",
      "Name: count, dtype: int64\n",
      "is_null:0\n",
      "\n",
      "column:\n",
      "category\n",
      "Health           2622\n",
      "Sports           2612\n",
      "Entertainment    2607\n",
      "Technology       2599\n",
      "Business         2576\n",
      "Politics         2518\n",
      "Science          2511\n",
      "Name: count, dtype: int64\n",
      "is_null:0\n",
      "\n"
     ]
    }
   ],
   "execution_count": 12
  },
  {
   "metadata": {
    "ExecuteTime": {
     "end_time": "2025-05-19T21:54:19.318709Z",
     "start_time": "2025-05-19T21:54:19.288210Z"
    }
   },
   "cell_type": "code",
   "source": [
    "for column in columns:\n",
    "    categories = df[column].unique()\n",
    "    for category in categories:\n",
    "        df[f\"is_{category}\"] = (df[column] == category).astype('int')"
   ],
   "id": "44b137f45d21ce33",
   "outputs": [],
   "execution_count": 13
  },
  {
   "metadata": {
    "ExecuteTime": {
     "end_time": "2025-05-19T21:54:21.805906Z",
     "start_time": "2025-05-19T21:54:21.785381Z"
    }
   },
   "cell_type": "code",
   "source": "df.drop(['source','category'],axis=1,inplace=True)",
   "id": "21e708100eb27803",
   "outputs": [],
   "execution_count": 14
  },
  {
   "metadata": {
    "ExecuteTime": {
     "end_time": "2025-05-19T21:54:23.473217Z",
     "start_time": "2025-05-19T21:54:23.468449Z"
    }
   },
   "cell_type": "code",
   "source": "df['label'] = (df['label'] == 'real').astype('int')",
   "id": "a49f3b8d4782c1e7",
   "outputs": [],
   "execution_count": 15
  },
  {
   "metadata": {
    "ExecuteTime": {
     "end_time": "2025-05-19T21:54:35.873462Z",
     "start_time": "2025-05-19T21:54:35.862567Z"
    }
   },
   "cell_type": "code",
   "source": [
    "X = df.drop(['title','text','label'],axis=1)\n",
    "y = df['label']"
   ],
   "id": "c5c01852471ec7f8",
   "outputs": [],
   "execution_count": 16
  },
  {
   "metadata": {
    "ExecuteTime": {
     "end_time": "2025-05-19T21:54:37.642042Z",
     "start_time": "2025-05-19T21:54:37.587976Z"
    }
   },
   "cell_type": "code",
   "source": [
    "from sklearn.preprocessing import StandardScaler\n",
    "scaler = StandardScaler()\n",
    "X = scaler.fit_transform(X)"
   ],
   "id": "5dd802471ed754f4",
   "outputs": [],
   "execution_count": 17
  },
  {
   "metadata": {
    "ExecuteTime": {
     "end_time": "2025-05-19T21:54:39.307670Z",
     "start_time": "2025-05-19T21:54:39.113340Z"
    }
   },
   "cell_type": "code",
   "source": [
    "from sklearn.model_selection import train_test_split \n",
    "X_train,X_test,y_train,y_test = train_test_split(X,y,test_size=.3,random_state=42)"
   ],
   "id": "3af44aec7d0d9870",
   "outputs": [],
   "execution_count": 18
  },
  {
   "metadata": {
    "ExecuteTime": {
     "end_time": "2025-05-19T21:54:40.452112Z",
     "start_time": "2025-05-19T21:54:40.449370Z"
    }
   },
   "cell_type": "code",
   "source": [
    "from keras import Sequential as sq \n",
    "from keras import layers "
   ],
   "id": "7083b80c3209df62",
   "outputs": [],
   "execution_count": 19
  },
  {
   "metadata": {
    "ExecuteTime": {
     "end_time": "2025-05-19T21:54:42.747848Z",
     "start_time": "2025-05-19T21:54:42.669689Z"
    }
   },
   "cell_type": "code",
   "source": [
    "model1 = sq([\n",
    "    layers.Dense(units=1,input_shape=(X_train.shape[1],),activation='sigmoid')\n",
    "])"
   ],
   "id": "f3c828c23cf436b4",
   "outputs": [
    {
     "name": "stderr",
     "output_type": "stream",
     "text": [
      "/Users/erdaulet/Desktop/allProjects/myenv/lib/python3.11/site-packages/keras/src/layers/core/dense.py:87: UserWarning: Do not pass an `input_shape`/`input_dim` argument to a layer. When using Sequential models, prefer using an `Input(shape)` object as the first layer in the model instead.\n",
      "  super().__init__(activity_regularizer=activity_regularizer, **kwargs)\n"
     ]
    }
   ],
   "execution_count": 20
  },
  {
   "metadata": {
    "ExecuteTime": {
     "end_time": "2025-05-19T21:54:44.943992Z",
     "start_time": "2025-05-19T21:54:44.933197Z"
    }
   },
   "cell_type": "code",
   "source": "model1.compile(optimizer='adam',loss='binary_crossentropy',metrics=['accuracy'])",
   "id": "252d1880447e5ec8",
   "outputs": [],
   "execution_count": 21
  },
  {
   "metadata": {
    "ExecuteTime": {
     "end_time": "2025-05-19T21:56:48.172350Z",
     "start_time": "2025-05-19T21:56:48.168771Z"
    }
   },
   "cell_type": "code",
   "source": [
    "from keras import callbacks\n",
    "early_stop = callbacks.EarlyStopping(monitor='accuracy',patience=10,restore_best_weights=True)"
   ],
   "id": "546e5949e443a3cd",
   "outputs": [],
   "execution_count": 26
  },
  {
   "metadata": {
    "ExecuteTime": {
     "end_time": "2025-05-19T21:56:55.498359Z",
     "start_time": "2025-05-19T21:56:49.174812Z"
    }
   },
   "cell_type": "code",
   "source": "model1.fit(X_train,y_train,epochs=1000,batch_size=32,callbacks=[early_stop],validation_split=0.2)",
   "id": "12991780043b882f",
   "outputs": [
    {
     "name": "stdout",
     "output_type": "stream",
     "text": [
      "Epoch 1/1000\n",
      "\u001B[1m316/316\u001B[0m \u001B[32m━━━━━━━━━━━━━━━━━━━━\u001B[0m\u001B[37m\u001B[0m \u001B[1m0s\u001B[0m 845us/step - accuracy: 0.5142 - loss: 0.6927 - val_accuracy: 0.4966 - val_loss: 0.6943\n",
      "Epoch 2/1000\n",
      "\u001B[1m316/316\u001B[0m \u001B[32m━━━━━━━━━━━━━━━━━━━━\u001B[0m\u001B[37m\u001B[0m \u001B[1m0s\u001B[0m 870us/step - accuracy: 0.5134 - loss: 0.6929 - val_accuracy: 0.4978 - val_loss: 0.6942\n",
      "Epoch 3/1000\n",
      "\u001B[1m316/316\u001B[0m \u001B[32m━━━━━━━━━━━━━━━━━━━━\u001B[0m\u001B[37m\u001B[0m \u001B[1m0s\u001B[0m 876us/step - accuracy: 0.5128 - loss: 0.6929 - val_accuracy: 0.4986 - val_loss: 0.6942\n",
      "Epoch 4/1000\n",
      "\u001B[1m316/316\u001B[0m \u001B[32m━━━━━━━━━━━━━━━━━━━━\u001B[0m\u001B[37m\u001B[0m \u001B[1m0s\u001B[0m 774us/step - accuracy: 0.5098 - loss: 0.6926 - val_accuracy: 0.4986 - val_loss: 0.6943\n",
      "Epoch 5/1000\n",
      "\u001B[1m316/316\u001B[0m \u001B[32m━━━━━━━━━━━━━━━━━━━━\u001B[0m\u001B[37m\u001B[0m \u001B[1m0s\u001B[0m 752us/step - accuracy: 0.5128 - loss: 0.6929 - val_accuracy: 0.5018 - val_loss: 0.6939\n",
      "Epoch 6/1000\n",
      "\u001B[1m316/316\u001B[0m \u001B[32m━━━━━━━━━━━━━━━━━━━━\u001B[0m\u001B[37m\u001B[0m \u001B[1m0s\u001B[0m 766us/step - accuracy: 0.5146 - loss: 0.6932 - val_accuracy: 0.4958 - val_loss: 0.6941\n",
      "Epoch 7/1000\n",
      "\u001B[1m316/316\u001B[0m \u001B[32m━━━━━━━━━━━━━━━━━━━━\u001B[0m\u001B[37m\u001B[0m \u001B[1m0s\u001B[0m 771us/step - accuracy: 0.5176 - loss: 0.6922 - val_accuracy: 0.4994 - val_loss: 0.6939\n",
      "Epoch 8/1000\n",
      "\u001B[1m316/316\u001B[0m \u001B[32m━━━━━━━━━━━━━━━━━━━━\u001B[0m\u001B[37m\u001B[0m \u001B[1m0s\u001B[0m 772us/step - accuracy: 0.5083 - loss: 0.6934 - val_accuracy: 0.5018 - val_loss: 0.6941\n",
      "Epoch 9/1000\n",
      "\u001B[1m316/316\u001B[0m \u001B[32m━━━━━━━━━━━━━━━━━━━━\u001B[0m\u001B[37m\u001B[0m \u001B[1m0s\u001B[0m 803us/step - accuracy: 0.5180 - loss: 0.6930 - val_accuracy: 0.4939 - val_loss: 0.6942\n",
      "Epoch 10/1000\n",
      "\u001B[1m316/316\u001B[0m \u001B[32m━━━━━━━━━━━━━━━━━━━━\u001B[0m\u001B[37m\u001B[0m \u001B[1m0s\u001B[0m 842us/step - accuracy: 0.5167 - loss: 0.6927 - val_accuracy: 0.4939 - val_loss: 0.6944\n",
      "Epoch 11/1000\n",
      "\u001B[1m316/316\u001B[0m \u001B[32m━━━━━━━━━━━━━━━━━━━━\u001B[0m\u001B[37m\u001B[0m \u001B[1m0s\u001B[0m 810us/step - accuracy: 0.5047 - loss: 0.6936 - val_accuracy: 0.4947 - val_loss: 0.6944\n",
      "Epoch 12/1000\n",
      "\u001B[1m316/316\u001B[0m \u001B[32m━━━━━━━━━━━━━━━━━━━━\u001B[0m\u001B[37m\u001B[0m \u001B[1m0s\u001B[0m 808us/step - accuracy: 0.5094 - loss: 0.6934 - val_accuracy: 0.4947 - val_loss: 0.6944\n",
      "Epoch 13/1000\n",
      "\u001B[1m316/316\u001B[0m \u001B[32m━━━━━━━━━━━━━━━━━━━━\u001B[0m\u001B[37m\u001B[0m \u001B[1m0s\u001B[0m 797us/step - accuracy: 0.5103 - loss: 0.6930 - val_accuracy: 0.5010 - val_loss: 0.6943\n",
      "Epoch 14/1000\n",
      "\u001B[1m316/316\u001B[0m \u001B[32m━━━━━━━━━━━━━━━━━━━━\u001B[0m\u001B[37m\u001B[0m \u001B[1m0s\u001B[0m 814us/step - accuracy: 0.5136 - loss: 0.6929 - val_accuracy: 0.5026 - val_loss: 0.6941\n",
      "Epoch 15/1000\n",
      "\u001B[1m316/316\u001B[0m \u001B[32m━━━━━━━━━━━━━━━━━━━━\u001B[0m\u001B[37m\u001B[0m \u001B[1m0s\u001B[0m 805us/step - accuracy: 0.5232 - loss: 0.6920 - val_accuracy: 0.5002 - val_loss: 0.6940\n",
      "Epoch 16/1000\n",
      "\u001B[1m316/316\u001B[0m \u001B[32m━━━━━━━━━━━━━━━━━━━━\u001B[0m\u001B[37m\u001B[0m \u001B[1m0s\u001B[0m 823us/step - accuracy: 0.5118 - loss: 0.6933 - val_accuracy: 0.4943 - val_loss: 0.6941\n",
      "Epoch 17/1000\n",
      "\u001B[1m316/316\u001B[0m \u001B[32m━━━━━━━━━━━━━━━━━━━━\u001B[0m\u001B[37m\u001B[0m \u001B[1m0s\u001B[0m 851us/step - accuracy: 0.5201 - loss: 0.6923 - val_accuracy: 0.4962 - val_loss: 0.6940\n",
      "Epoch 18/1000\n",
      "\u001B[1m316/316\u001B[0m \u001B[32m━━━━━━━━━━━━━━━━━━━━\u001B[0m\u001B[37m\u001B[0m \u001B[1m0s\u001B[0m 820us/step - accuracy: 0.5156 - loss: 0.6930 - val_accuracy: 0.4899 - val_loss: 0.6942\n",
      "Epoch 19/1000\n",
      "\u001B[1m316/316\u001B[0m \u001B[32m━━━━━━━━━━━━━━━━━━━━\u001B[0m\u001B[37m\u001B[0m \u001B[1m0s\u001B[0m 788us/step - accuracy: 0.5177 - loss: 0.6925 - val_accuracy: 0.4962 - val_loss: 0.6943\n",
      "Epoch 20/1000\n",
      "\u001B[1m316/316\u001B[0m \u001B[32m━━━━━━━━━━━━━━━━━━━━\u001B[0m\u001B[37m\u001B[0m \u001B[1m0s\u001B[0m 875us/step - accuracy: 0.5188 - loss: 0.6929 - val_accuracy: 0.5006 - val_loss: 0.6940\n",
      "Epoch 21/1000\n",
      "\u001B[1m316/316\u001B[0m \u001B[32m━━━━━━━━━━━━━━━━━━━━\u001B[0m\u001B[37m\u001B[0m \u001B[1m0s\u001B[0m 825us/step - accuracy: 0.5123 - loss: 0.6925 - val_accuracy: 0.4974 - val_loss: 0.6941\n",
      "Epoch 22/1000\n",
      "\u001B[1m316/316\u001B[0m \u001B[32m━━━━━━━━━━━━━━━━━━━━\u001B[0m\u001B[37m\u001B[0m \u001B[1m0s\u001B[0m 795us/step - accuracy: 0.5200 - loss: 0.6929 - val_accuracy: 0.4911 - val_loss: 0.6942\n",
      "Epoch 23/1000\n",
      "\u001B[1m316/316\u001B[0m \u001B[32m━━━━━━━━━━━━━━━━━━━━\u001B[0m\u001B[37m\u001B[0m \u001B[1m0s\u001B[0m 807us/step - accuracy: 0.5164 - loss: 0.6925 - val_accuracy: 0.4990 - val_loss: 0.6941\n"
     ]
    },
    {
     "data": {
      "text/plain": [
       "<keras.src.callbacks.history.History at 0x14b871cd0>"
      ]
     },
     "execution_count": 27,
     "metadata": {},
     "output_type": "execute_result"
    }
   ],
   "execution_count": 27
  },
  {
   "metadata": {
    "ExecuteTime": {
     "end_time": "2025-05-19T22:00:47.655451Z",
     "start_time": "2025-05-19T22:00:46.422764Z"
    }
   },
   "cell_type": "code",
   "source": [
    "from sklearn.ensemble import RandomForestClassifier \n",
    "from sklearn.metrics import classification_report\n",
    "model2 = RandomForestClassifier(n_estimators=100,class_weight='balanced')\n",
    "model2.fit(X_train,y_train)\n",
    "y_pred = model2.predict(X_test)\n",
    "print(f\"{classification_report(y_test,y_pred)}\")"
   ],
   "id": "8139289d011c0240",
   "outputs": [
    {
     "name": "stdout",
     "output_type": "stream",
     "text": [
      "              precision    recall  f1-score   support\n",
      "\n",
      "           0       0.50      0.53      0.52      2735\n",
      "           1       0.49      0.46      0.47      2679\n",
      "\n",
      "    accuracy                           0.50      5414\n",
      "   macro avg       0.50      0.50      0.49      5414\n",
      "weighted avg       0.50      0.50      0.49      5414\n",
      "\n"
     ]
    }
   ],
   "execution_count": 28
  },
  {
   "metadata": {
    "ExecuteTime": {
     "end_time": "2025-05-19T22:05:58.450808Z",
     "start_time": "2025-05-19T22:05:58.399373Z"
    }
   },
   "cell_type": "code",
   "source": "df",
   "id": "dff61129595bcc58",
   "outputs": [
    {
     "data": {
      "text/plain": [
       "                                       title  \\\n",
       "0                    Foreign Democrat final.   \n",
       "1        To offer down resource great point.   \n",
       "2               Himself church myself carry.   \n",
       "3                       You unit its should.   \n",
       "4       Billion believe employee summer how.   \n",
       "...                                      ...   \n",
       "19995                      House party born.   \n",
       "19996  Though nation people maybe price box.   \n",
       "19997        Yet exist with experience unit.   \n",
       "19998               School wide itself item.   \n",
       "19999         Offer chair cover senior born.   \n",
       "\n",
       "                                                    text  label  is_NY Times  \\\n",
       "0      more tax development both store agreement lawy...      1            1   \n",
       "1      probably guess western behind likely next inve...      0            0   \n",
       "2      them identify forward present success risk sev...      0            0   \n",
       "3      phone which item yard Republican safe where po...      0            0   \n",
       "4      wonder myself fact difficult course forget exa...      0            0   \n",
       "...                                                  ...    ...          ...   \n",
       "19995  hit and television I change very our happy doo...      0            0   \n",
       "19996  fear most meet rock even sea value design stan...      1            0   \n",
       "19997  activity loss very provide eye west create wha...      1            0   \n",
       "19998  term point general common training watch respo...      0            0   \n",
       "19999  remain pressure glass me six senior though nor...      0            0   \n",
       "\n",
       "       is_Fox News  is_CNN  is_Reuters  is_Daily News  is_Global Times  \\\n",
       "0                0       0           0              0                0   \n",
       "1                1       0           0              0                0   \n",
       "2                0       1           0              0                0   \n",
       "3                0       0           1              0                0   \n",
       "4                0       1           0              0                0   \n",
       "...            ...     ...         ...            ...              ...   \n",
       "19995            0       0           0              0                0   \n",
       "19996            0       0           0              1                0   \n",
       "19997            0       0           0              0                0   \n",
       "19998            0       0           1              0                0   \n",
       "19999            0       0           0              1                0   \n",
       "\n",
       "       is_The Guardian  is_BBC  is_Politics  is_Business  is_Science  \\\n",
       "0                    0       0            1            0           0   \n",
       "1                    0       0            1            0           0   \n",
       "2                    0       0            0            1           0   \n",
       "3                    0       0            0            0           1   \n",
       "4                    0       0            0            0           0   \n",
       "...                ...     ...          ...          ...         ...   \n",
       "19995                0       1            0            0           0   \n",
       "19996                0       0            0            0           0   \n",
       "19997                0       1            0            0           0   \n",
       "19998                0       0            0            0           0   \n",
       "19999                0       0            0            0           0   \n",
       "\n",
       "       is_Technology  is_Health  is_Sports  is_Entertainment  \n",
       "0                  0          0          0                 0  \n",
       "1                  0          0          0                 0  \n",
       "2                  0          0          0                 0  \n",
       "3                  0          0          0                 0  \n",
       "4                  1          0          0                 0  \n",
       "...              ...        ...        ...               ...  \n",
       "19995              0          0          0                 1  \n",
       "19996              0          0          0                 1  \n",
       "19997              0          0          0                 1  \n",
       "19998              0          1          0                 0  \n",
       "19999              0          1          0                 0  \n",
       "\n",
       "[18045 rows x 18 columns]"
      ],
      "text/html": [
       "<div>\n",
       "<style scoped>\n",
       "    .dataframe tbody tr th:only-of-type {\n",
       "        vertical-align: middle;\n",
       "    }\n",
       "\n",
       "    .dataframe tbody tr th {\n",
       "        vertical-align: top;\n",
       "    }\n",
       "\n",
       "    .dataframe thead th {\n",
       "        text-align: right;\n",
       "    }\n",
       "</style>\n",
       "<table border=\"1\" class=\"dataframe\">\n",
       "  <thead>\n",
       "    <tr style=\"text-align: right;\">\n",
       "      <th></th>\n",
       "      <th>title</th>\n",
       "      <th>text</th>\n",
       "      <th>label</th>\n",
       "      <th>is_NY Times</th>\n",
       "      <th>is_Fox News</th>\n",
       "      <th>is_CNN</th>\n",
       "      <th>is_Reuters</th>\n",
       "      <th>is_Daily News</th>\n",
       "      <th>is_Global Times</th>\n",
       "      <th>is_The Guardian</th>\n",
       "      <th>is_BBC</th>\n",
       "      <th>is_Politics</th>\n",
       "      <th>is_Business</th>\n",
       "      <th>is_Science</th>\n",
       "      <th>is_Technology</th>\n",
       "      <th>is_Health</th>\n",
       "      <th>is_Sports</th>\n",
       "      <th>is_Entertainment</th>\n",
       "    </tr>\n",
       "  </thead>\n",
       "  <tbody>\n",
       "    <tr>\n",
       "      <th>0</th>\n",
       "      <td>Foreign Democrat final.</td>\n",
       "      <td>more tax development both store agreement lawy...</td>\n",
       "      <td>1</td>\n",
       "      <td>1</td>\n",
       "      <td>0</td>\n",
       "      <td>0</td>\n",
       "      <td>0</td>\n",
       "      <td>0</td>\n",
       "      <td>0</td>\n",
       "      <td>0</td>\n",
       "      <td>0</td>\n",
       "      <td>1</td>\n",
       "      <td>0</td>\n",
       "      <td>0</td>\n",
       "      <td>0</td>\n",
       "      <td>0</td>\n",
       "      <td>0</td>\n",
       "      <td>0</td>\n",
       "    </tr>\n",
       "    <tr>\n",
       "      <th>1</th>\n",
       "      <td>To offer down resource great point.</td>\n",
       "      <td>probably guess western behind likely next inve...</td>\n",
       "      <td>0</td>\n",
       "      <td>0</td>\n",
       "      <td>1</td>\n",
       "      <td>0</td>\n",
       "      <td>0</td>\n",
       "      <td>0</td>\n",
       "      <td>0</td>\n",
       "      <td>0</td>\n",
       "      <td>0</td>\n",
       "      <td>1</td>\n",
       "      <td>0</td>\n",
       "      <td>0</td>\n",
       "      <td>0</td>\n",
       "      <td>0</td>\n",
       "      <td>0</td>\n",
       "      <td>0</td>\n",
       "    </tr>\n",
       "    <tr>\n",
       "      <th>2</th>\n",
       "      <td>Himself church myself carry.</td>\n",
       "      <td>them identify forward present success risk sev...</td>\n",
       "      <td>0</td>\n",
       "      <td>0</td>\n",
       "      <td>0</td>\n",
       "      <td>1</td>\n",
       "      <td>0</td>\n",
       "      <td>0</td>\n",
       "      <td>0</td>\n",
       "      <td>0</td>\n",
       "      <td>0</td>\n",
       "      <td>0</td>\n",
       "      <td>1</td>\n",
       "      <td>0</td>\n",
       "      <td>0</td>\n",
       "      <td>0</td>\n",
       "      <td>0</td>\n",
       "      <td>0</td>\n",
       "    </tr>\n",
       "    <tr>\n",
       "      <th>3</th>\n",
       "      <td>You unit its should.</td>\n",
       "      <td>phone which item yard Republican safe where po...</td>\n",
       "      <td>0</td>\n",
       "      <td>0</td>\n",
       "      <td>0</td>\n",
       "      <td>0</td>\n",
       "      <td>1</td>\n",
       "      <td>0</td>\n",
       "      <td>0</td>\n",
       "      <td>0</td>\n",
       "      <td>0</td>\n",
       "      <td>0</td>\n",
       "      <td>0</td>\n",
       "      <td>1</td>\n",
       "      <td>0</td>\n",
       "      <td>0</td>\n",
       "      <td>0</td>\n",
       "      <td>0</td>\n",
       "    </tr>\n",
       "    <tr>\n",
       "      <th>4</th>\n",
       "      <td>Billion believe employee summer how.</td>\n",
       "      <td>wonder myself fact difficult course forget exa...</td>\n",
       "      <td>0</td>\n",
       "      <td>0</td>\n",
       "      <td>0</td>\n",
       "      <td>1</td>\n",
       "      <td>0</td>\n",
       "      <td>0</td>\n",
       "      <td>0</td>\n",
       "      <td>0</td>\n",
       "      <td>0</td>\n",
       "      <td>0</td>\n",
       "      <td>0</td>\n",
       "      <td>0</td>\n",
       "      <td>1</td>\n",
       "      <td>0</td>\n",
       "      <td>0</td>\n",
       "      <td>0</td>\n",
       "    </tr>\n",
       "    <tr>\n",
       "      <th>...</th>\n",
       "      <td>...</td>\n",
       "      <td>...</td>\n",
       "      <td>...</td>\n",
       "      <td>...</td>\n",
       "      <td>...</td>\n",
       "      <td>...</td>\n",
       "      <td>...</td>\n",
       "      <td>...</td>\n",
       "      <td>...</td>\n",
       "      <td>...</td>\n",
       "      <td>...</td>\n",
       "      <td>...</td>\n",
       "      <td>...</td>\n",
       "      <td>...</td>\n",
       "      <td>...</td>\n",
       "      <td>...</td>\n",
       "      <td>...</td>\n",
       "      <td>...</td>\n",
       "    </tr>\n",
       "    <tr>\n",
       "      <th>19995</th>\n",
       "      <td>House party born.</td>\n",
       "      <td>hit and television I change very our happy doo...</td>\n",
       "      <td>0</td>\n",
       "      <td>0</td>\n",
       "      <td>0</td>\n",
       "      <td>0</td>\n",
       "      <td>0</td>\n",
       "      <td>0</td>\n",
       "      <td>0</td>\n",
       "      <td>0</td>\n",
       "      <td>1</td>\n",
       "      <td>0</td>\n",
       "      <td>0</td>\n",
       "      <td>0</td>\n",
       "      <td>0</td>\n",
       "      <td>0</td>\n",
       "      <td>0</td>\n",
       "      <td>1</td>\n",
       "    </tr>\n",
       "    <tr>\n",
       "      <th>19996</th>\n",
       "      <td>Though nation people maybe price box.</td>\n",
       "      <td>fear most meet rock even sea value design stan...</td>\n",
       "      <td>1</td>\n",
       "      <td>0</td>\n",
       "      <td>0</td>\n",
       "      <td>0</td>\n",
       "      <td>0</td>\n",
       "      <td>1</td>\n",
       "      <td>0</td>\n",
       "      <td>0</td>\n",
       "      <td>0</td>\n",
       "      <td>0</td>\n",
       "      <td>0</td>\n",
       "      <td>0</td>\n",
       "      <td>0</td>\n",
       "      <td>0</td>\n",
       "      <td>0</td>\n",
       "      <td>1</td>\n",
       "    </tr>\n",
       "    <tr>\n",
       "      <th>19997</th>\n",
       "      <td>Yet exist with experience unit.</td>\n",
       "      <td>activity loss very provide eye west create wha...</td>\n",
       "      <td>1</td>\n",
       "      <td>0</td>\n",
       "      <td>0</td>\n",
       "      <td>0</td>\n",
       "      <td>0</td>\n",
       "      <td>0</td>\n",
       "      <td>0</td>\n",
       "      <td>0</td>\n",
       "      <td>1</td>\n",
       "      <td>0</td>\n",
       "      <td>0</td>\n",
       "      <td>0</td>\n",
       "      <td>0</td>\n",
       "      <td>0</td>\n",
       "      <td>0</td>\n",
       "      <td>1</td>\n",
       "    </tr>\n",
       "    <tr>\n",
       "      <th>19998</th>\n",
       "      <td>School wide itself item.</td>\n",
       "      <td>term point general common training watch respo...</td>\n",
       "      <td>0</td>\n",
       "      <td>0</td>\n",
       "      <td>0</td>\n",
       "      <td>0</td>\n",
       "      <td>1</td>\n",
       "      <td>0</td>\n",
       "      <td>0</td>\n",
       "      <td>0</td>\n",
       "      <td>0</td>\n",
       "      <td>0</td>\n",
       "      <td>0</td>\n",
       "      <td>0</td>\n",
       "      <td>0</td>\n",
       "      <td>1</td>\n",
       "      <td>0</td>\n",
       "      <td>0</td>\n",
       "    </tr>\n",
       "    <tr>\n",
       "      <th>19999</th>\n",
       "      <td>Offer chair cover senior born.</td>\n",
       "      <td>remain pressure glass me six senior though nor...</td>\n",
       "      <td>0</td>\n",
       "      <td>0</td>\n",
       "      <td>0</td>\n",
       "      <td>0</td>\n",
       "      <td>0</td>\n",
       "      <td>1</td>\n",
       "      <td>0</td>\n",
       "      <td>0</td>\n",
       "      <td>0</td>\n",
       "      <td>0</td>\n",
       "      <td>0</td>\n",
       "      <td>0</td>\n",
       "      <td>0</td>\n",
       "      <td>1</td>\n",
       "      <td>0</td>\n",
       "      <td>0</td>\n",
       "    </tr>\n",
       "  </tbody>\n",
       "</table>\n",
       "<p>18045 rows × 18 columns</p>\n",
       "</div>"
      ]
     },
     "execution_count": 29,
     "metadata": {},
     "output_type": "execute_result"
    }
   ],
   "execution_count": 29
  },
  {
   "metadata": {
    "ExecuteTime": {
     "end_time": "2025-05-19T23:10:44.489818Z",
     "start_time": "2025-05-19T23:10:43.504176Z"
    }
   },
   "cell_type": "code",
   "source": [
    "from sklearn.feature_extraction.text import TfidfVectorizer as tfdV \n",
    "from nltk.corpus import stopwords\n",
    "import nltk\n",
    "import re\n",
    "nltk.download('stopwords')\n",
    "stop_words = stopwords.words('english')\n",
    "def cleaner(text):\n",
    "    text = text.lower()\n",
    "    text = re.sub(r'[^\\w\\s]', '',text)\n",
    "    tokens = text.split()\n",
    "    tokens = [word for word in tokens if word not in stop_words]\n",
    "    return ' '.join(tokens)"
   ],
   "id": "16941f242d579b58",
   "outputs": [
    {
     "name": "stderr",
     "output_type": "stream",
     "text": [
      "[nltk_data] Downloading package stopwords to\n",
      "[nltk_data]     /Users/erdaulet/nltk_data...\n",
      "[nltk_data]   Package stopwords is already up-to-date!\n"
     ]
    }
   ],
   "execution_count": 52
  },
  {
   "metadata": {
    "ExecuteTime": {
     "end_time": "2025-05-19T23:10:56.688001Z",
     "start_time": "2025-05-19T23:10:47.177311Z"
    }
   },
   "cell_type": "code",
   "source": [
    "df['cleaned_title'] = df['title'].apply(cleaner)\n",
    "df['cleaned_text'] = df['text'].apply(cleaner)"
   ],
   "id": "e3efd543cba82494",
   "outputs": [],
   "execution_count": 53
  },
  {
   "metadata": {
    "ExecuteTime": {
     "end_time": "2025-05-19T23:11:01.616038Z",
     "start_time": "2025-05-19T23:10:59.181752Z"
    }
   },
   "cell_type": "code",
   "source": [
    "vectorizer = tfdV()\n",
    "X = vectorizer.fit_transform(df['cleaned_text'])\n",
    "y = df['label']"
   ],
   "id": "c031b2a7a3769fec",
   "outputs": [],
   "execution_count": 54
  },
  {
   "metadata": {
    "ExecuteTime": {
     "end_time": "2025-05-19T23:11:02.703933Z",
     "start_time": "2025-05-19T23:11:02.647606Z"
    }
   },
   "cell_type": "code",
   "source": "X = X.toarray()",
   "id": "2be89dddf285724e",
   "outputs": [],
   "execution_count": 55
  },
  {
   "metadata": {
    "ExecuteTime": {
     "end_time": "2025-05-19T23:11:04.790872Z",
     "start_time": "2025-05-19T23:11:04.744978Z"
    }
   },
   "cell_type": "code",
   "source": "X_train,X_test,y_train,y_test = train_test_split(X,y,test_size=.3,random_state=42)",
   "id": "a4ea95429bc28dba",
   "outputs": [],
   "execution_count": 56
  },
  {
   "metadata": {
    "ExecuteTime": {
     "end_time": "2025-05-19T23:11:06.272389Z",
     "start_time": "2025-05-19T23:11:06.180236Z"
    }
   },
   "cell_type": "code",
   "source": [
    "from sklearn.naive_bayes import MultinomialNB as MNB\n",
    "model3 = MNB()\n",
    "model3.fit(X_train,y_train)\n",
    "y_pred = model3.predict(X_test)"
   ],
   "id": "57697103c4bdfa0",
   "outputs": [],
   "execution_count": 57
  },
  {
   "metadata": {
    "ExecuteTime": {
     "end_time": "2025-05-19T23:11:07.917071Z",
     "start_time": "2025-05-19T23:11:07.903301Z"
    }
   },
   "cell_type": "code",
   "source": [
    "from sklearn.metrics import classification_report \n",
    "print(classification_report(y_test,y_pred))"
   ],
   "id": "badfde37eb8fd393",
   "outputs": [
    {
     "name": "stdout",
     "output_type": "stream",
     "text": [
      "              precision    recall  f1-score   support\n",
      "\n",
      "           0       0.51      0.68      0.58      2735\n",
      "           1       0.50      0.33      0.39      2679\n",
      "\n",
      "    accuracy                           0.50      5414\n",
      "   macro avg       0.50      0.50      0.49      5414\n",
      "weighted avg       0.50      0.50      0.49      5414\n",
      "\n"
     ]
    }
   ],
   "execution_count": 58
  }
 ],
 "metadata": {
  "kernelspec": {
   "display_name": "Python 3",
   "language": "python",
   "name": "python3"
  },
  "language_info": {
   "codemirror_mode": {
    "name": "ipython",
    "version": 2
   },
   "file_extension": ".py",
   "mimetype": "text/x-python",
   "name": "python",
   "nbconvert_exporter": "python",
   "pygments_lexer": "ipython2",
   "version": "2.7.6"
  }
 },
 "nbformat": 4,
 "nbformat_minor": 5
}
