{
 "cells": [
  {
   "cell_type": "code",
   "id": "initial_id",
   "metadata": {
    "collapsed": true,
    "ExecuteTime": {
     "end_time": "2025-05-10T16:57:42.915323Z",
     "start_time": "2025-05-10T16:57:42.137564Z"
    }
   },
   "source": "import pandas as pd",
   "outputs": [],
   "execution_count": 1
  },
  {
   "metadata": {
    "ExecuteTime": {
     "end_time": "2025-05-10T16:58:07.404684Z",
     "start_time": "2025-05-10T16:58:07.083169Z"
    }
   },
   "cell_type": "code",
   "source": "df = pd.read_csv('email_phishing_data.csv')",
   "id": "2f64465cd4ea0f20",
   "outputs": [],
   "execution_count": 2
  },
  {
   "metadata": {
    "ExecuteTime": {
     "end_time": "2025-05-10T16:58:40.347106Z",
     "start_time": "2025-05-10T16:58:40.325896Z"
    }
   },
   "cell_type": "code",
   "source": "df.shape",
   "id": "86a918ee5df18bce",
   "outputs": [
    {
     "data": {
      "text/plain": [
       "(524846, 9)"
      ]
     },
     "execution_count": 3,
     "metadata": {},
     "output_type": "execute_result"
    }
   ],
   "execution_count": 3
  },
  {
   "metadata": {
    "ExecuteTime": {
     "end_time": "2025-05-10T17:01:43.516508Z",
     "start_time": "2025-05-10T17:01:43.398820Z"
    }
   },
   "cell_type": "code",
   "source": [
    "columns = df.columns\n",
    "for column in columns:\n",
    "    print(f\"{df[column].value_counts()}\")\n",
    "    print(f\"Nulls : {df[column].isnull().sum()}\\n\")"
   ],
   "id": "1f35305c62d8b5bc",
   "outputs": [
    {
     "name": "stdout",
     "output_type": "stream",
     "text": [
      "24       6165\n",
      "11       4081\n",
      "31       3575\n",
      "10       3512\n",
      "5        3344\n",
      "         ... \n",
      "3948        1\n",
      "3436        1\n",
      "4975        1\n",
      "2924        1\n",
      "14589       1\n",
      "Name: num_words, Length: 4278, dtype: int64\n",
      "Nulls : 0\n",
      "\n",
      "22      7262\n",
      "34      4709\n",
      "32      4561\n",
      "10      4458\n",
      "28      4409\n",
      "        ... \n",
      "4764       1\n",
      "1463       1\n",
      "3740       1\n",
      "3135       1\n",
      "1919       1\n",
      "Name: num_unique_words, Length: 1892, dtype: int64\n",
      "Nulls : 0\n",
      "\n",
      "0        12493\n",
      "7        12199\n",
      "4        11949\n",
      "2        11405\n",
      "5        10914\n",
      "         ...  \n",
      "2432         1\n",
      "1409         1\n",
      "10826        1\n",
      "3789         1\n",
      "1186         1\n",
      "Name: num_stopwords, Length: 1885, dtype: int64\n",
      "Nulls : 0\n",
      "\n",
      "0      431424\n",
      "1       47147\n",
      "2       15115\n",
      "3        6890\n",
      "4        4397\n",
      "        ...  \n",
      "539         1\n",
      "176         1\n",
      "178         1\n",
      "181         1\n",
      "824         1\n",
      "Name: num_links, Length: 197, dtype: int64\n",
      "Nulls : 0\n",
      "\n",
      "0      431424\n",
      "1       62638\n",
      "2       14525\n",
      "3        6421\n",
      "4        3912\n",
      "        ...  \n",
      "49          2\n",
      "43          2\n",
      "524         1\n",
      "46          1\n",
      "123         1\n",
      "Name: num_unique_domains, Length: 82, dtype: int64\n",
      "Nulls : 0\n",
      "\n",
      "0      362902\n",
      "1       56687\n",
      "2       28930\n",
      "3       20028\n",
      "4       11658\n",
      "        ...  \n",
      "376         1\n",
      "386         1\n",
      "287         1\n",
      "571         1\n",
      "534         1\n",
      "Name: num_email_addresses, Length: 285, dtype: int64\n",
      "Nulls : 0\n",
      "\n",
      "0       51344\n",
      "1       46002\n",
      "2       37900\n",
      "3       28815\n",
      "4       27347\n",
      "        ...  \n",
      "1129        1\n",
      "1407        1\n",
      "1470        1\n",
      "619         1\n",
      "926         1\n",
      "Name: num_spelling_errors, Length: 1066, dtype: int64\n",
      "Nulls : 0\n",
      "\n",
      "0    421833\n",
      "1     83229\n",
      "2     15348\n",
      "3      3194\n",
      "4      1023\n",
      "5       169\n",
      "6        49\n",
      "7         1\n",
      "Name: num_urgent_keywords, dtype: int64\n",
      "Nulls : 0\n",
      "\n",
      "0    517897\n",
      "1      6949\n",
      "Name: label, dtype: int64\n",
      "Nulls : 0\n",
      "\n"
     ]
    }
   ],
   "execution_count": 7
  },
  {
   "metadata": {
    "ExecuteTime": {
     "end_time": "2025-05-10T17:02:27.131399Z",
     "start_time": "2025-05-10T17:02:27.099464Z"
    }
   },
   "cell_type": "code",
   "source": "df",
   "id": "7fd76c672136fe70",
   "outputs": [
    {
     "data": {
      "text/plain": [
       "        num_words  num_unique_words  num_stopwords  num_links  \\\n",
       "0             140                94             52          0   \n",
       "1               5                 5              1          0   \n",
       "2              34                32             15          0   \n",
       "3               6                 6              2          0   \n",
       "4               9                 9              2          0   \n",
       "...           ...               ...            ...        ...   \n",
       "524841        782               327            301          2   \n",
       "524842         36                30             11          0   \n",
       "524843         61                46             11          0   \n",
       "524844        213               136             89          0   \n",
       "524845         26                24              3          0   \n",
       "\n",
       "        num_unique_domains  num_email_addresses  num_spelling_errors  \\\n",
       "0                        0                    0                    0   \n",
       "1                        0                    0                    0   \n",
       "2                        0                    0                    0   \n",
       "3                        0                    0                    0   \n",
       "4                        0                    0                    0   \n",
       "...                    ...                  ...                  ...   \n",
       "524841                   2                    2                   52   \n",
       "524842                   0                    0                    4   \n",
       "524843                   0                    0                    3   \n",
       "524844                   0                    0                   18   \n",
       "524845                   0                    0                    2   \n",
       "\n",
       "        num_urgent_keywords  label  \n",
       "0                         0      0  \n",
       "1                         0      0  \n",
       "2                         0      0  \n",
       "3                         0      0  \n",
       "4                         0      0  \n",
       "...                     ...    ...  \n",
       "524841                    1      0  \n",
       "524842                    0      1  \n",
       "524843                    0      0  \n",
       "524844                    0      0  \n",
       "524845                    0      0  \n",
       "\n",
       "[524846 rows x 9 columns]"
      ],
      "text/html": [
       "<div>\n",
       "<style scoped>\n",
       "    .dataframe tbody tr th:only-of-type {\n",
       "        vertical-align: middle;\n",
       "    }\n",
       "\n",
       "    .dataframe tbody tr th {\n",
       "        vertical-align: top;\n",
       "    }\n",
       "\n",
       "    .dataframe thead th {\n",
       "        text-align: right;\n",
       "    }\n",
       "</style>\n",
       "<table border=\"1\" class=\"dataframe\">\n",
       "  <thead>\n",
       "    <tr style=\"text-align: right;\">\n",
       "      <th></th>\n",
       "      <th>num_words</th>\n",
       "      <th>num_unique_words</th>\n",
       "      <th>num_stopwords</th>\n",
       "      <th>num_links</th>\n",
       "      <th>num_unique_domains</th>\n",
       "      <th>num_email_addresses</th>\n",
       "      <th>num_spelling_errors</th>\n",
       "      <th>num_urgent_keywords</th>\n",
       "      <th>label</th>\n",
       "    </tr>\n",
       "  </thead>\n",
       "  <tbody>\n",
       "    <tr>\n",
       "      <th>0</th>\n",
       "      <td>140</td>\n",
       "      <td>94</td>\n",
       "      <td>52</td>\n",
       "      <td>0</td>\n",
       "      <td>0</td>\n",
       "      <td>0</td>\n",
       "      <td>0</td>\n",
       "      <td>0</td>\n",
       "      <td>0</td>\n",
       "    </tr>\n",
       "    <tr>\n",
       "      <th>1</th>\n",
       "      <td>5</td>\n",
       "      <td>5</td>\n",
       "      <td>1</td>\n",
       "      <td>0</td>\n",
       "      <td>0</td>\n",
       "      <td>0</td>\n",
       "      <td>0</td>\n",
       "      <td>0</td>\n",
       "      <td>0</td>\n",
       "    </tr>\n",
       "    <tr>\n",
       "      <th>2</th>\n",
       "      <td>34</td>\n",
       "      <td>32</td>\n",
       "      <td>15</td>\n",
       "      <td>0</td>\n",
       "      <td>0</td>\n",
       "      <td>0</td>\n",
       "      <td>0</td>\n",
       "      <td>0</td>\n",
       "      <td>0</td>\n",
       "    </tr>\n",
       "    <tr>\n",
       "      <th>3</th>\n",
       "      <td>6</td>\n",
       "      <td>6</td>\n",
       "      <td>2</td>\n",
       "      <td>0</td>\n",
       "      <td>0</td>\n",
       "      <td>0</td>\n",
       "      <td>0</td>\n",
       "      <td>0</td>\n",
       "      <td>0</td>\n",
       "    </tr>\n",
       "    <tr>\n",
       "      <th>4</th>\n",
       "      <td>9</td>\n",
       "      <td>9</td>\n",
       "      <td>2</td>\n",
       "      <td>0</td>\n",
       "      <td>0</td>\n",
       "      <td>0</td>\n",
       "      <td>0</td>\n",
       "      <td>0</td>\n",
       "      <td>0</td>\n",
       "    </tr>\n",
       "    <tr>\n",
       "      <th>...</th>\n",
       "      <td>...</td>\n",
       "      <td>...</td>\n",
       "      <td>...</td>\n",
       "      <td>...</td>\n",
       "      <td>...</td>\n",
       "      <td>...</td>\n",
       "      <td>...</td>\n",
       "      <td>...</td>\n",
       "      <td>...</td>\n",
       "    </tr>\n",
       "    <tr>\n",
       "      <th>524841</th>\n",
       "      <td>782</td>\n",
       "      <td>327</td>\n",
       "      <td>301</td>\n",
       "      <td>2</td>\n",
       "      <td>2</td>\n",
       "      <td>2</td>\n",
       "      <td>52</td>\n",
       "      <td>1</td>\n",
       "      <td>0</td>\n",
       "    </tr>\n",
       "    <tr>\n",
       "      <th>524842</th>\n",
       "      <td>36</td>\n",
       "      <td>30</td>\n",
       "      <td>11</td>\n",
       "      <td>0</td>\n",
       "      <td>0</td>\n",
       "      <td>0</td>\n",
       "      <td>4</td>\n",
       "      <td>0</td>\n",
       "      <td>1</td>\n",
       "    </tr>\n",
       "    <tr>\n",
       "      <th>524843</th>\n",
       "      <td>61</td>\n",
       "      <td>46</td>\n",
       "      <td>11</td>\n",
       "      <td>0</td>\n",
       "      <td>0</td>\n",
       "      <td>0</td>\n",
       "      <td>3</td>\n",
       "      <td>0</td>\n",
       "      <td>0</td>\n",
       "    </tr>\n",
       "    <tr>\n",
       "      <th>524844</th>\n",
       "      <td>213</td>\n",
       "      <td>136</td>\n",
       "      <td>89</td>\n",
       "      <td>0</td>\n",
       "      <td>0</td>\n",
       "      <td>0</td>\n",
       "      <td>18</td>\n",
       "      <td>0</td>\n",
       "      <td>0</td>\n",
       "    </tr>\n",
       "    <tr>\n",
       "      <th>524845</th>\n",
       "      <td>26</td>\n",
       "      <td>24</td>\n",
       "      <td>3</td>\n",
       "      <td>0</td>\n",
       "      <td>0</td>\n",
       "      <td>0</td>\n",
       "      <td>2</td>\n",
       "      <td>0</td>\n",
       "      <td>0</td>\n",
       "    </tr>\n",
       "  </tbody>\n",
       "</table>\n",
       "<p>524846 rows × 9 columns</p>\n",
       "</div>"
      ]
     },
     "execution_count": 8,
     "metadata": {},
     "output_type": "execute_result"
    }
   ],
   "execution_count": 8
  },
  {
   "metadata": {
    "ExecuteTime": {
     "end_time": "2025-05-10T17:07:33.126331Z",
     "start_time": "2025-05-10T17:07:33.101824Z"
    }
   },
   "cell_type": "code",
   "source": "df.dtypes",
   "id": "6c232fb9567d1a86",
   "outputs": [
    {
     "data": {
      "text/plain": [
       "num_words              int64\n",
       "num_unique_words       int64\n",
       "num_stopwords          int64\n",
       "num_links              int64\n",
       "num_unique_domains     int64\n",
       "num_email_addresses    int64\n",
       "num_spelling_errors    int64\n",
       "num_urgent_keywords    int64\n",
       "label                  int64\n",
       "dtype: object"
      ]
     },
     "execution_count": 11,
     "metadata": {},
     "output_type": "execute_result"
    }
   ],
   "execution_count": 11
  },
  {
   "metadata": {
    "ExecuteTime": {
     "end_time": "2025-05-10T17:06:38.989287Z",
     "start_time": "2025-05-10T17:06:38.972725Z"
    }
   },
   "cell_type": "code",
   "source": "df.columns ",
   "id": "6e3052d48d2f8881",
   "outputs": [
    {
     "data": {
      "text/plain": [
       "Index(['num_words', 'num_unique_words', 'num_stopwords', 'num_links',\n",
       "       'num_unique_domains', 'num_email_addresses', 'num_spelling_errors',\n",
       "       'num_urgent_keywords', 'label'],\n",
       "      dtype='object')"
      ]
     },
     "execution_count": 9,
     "metadata": {},
     "output_type": "execute_result"
    }
   ],
   "execution_count": 9
  },
  {
   "metadata": {
    "ExecuteTime": {
     "end_time": "2025-05-10T17:23:52.418615Z",
     "start_time": "2025-05-10T17:23:52.343522Z"
    }
   },
   "cell_type": "code",
   "source": [
    "X,y = df[['num_words', 'num_unique_words', 'num_stopwords', 'num_links',\n",
    "       'num_unique_domains', 'num_email_addresses', 'num_spelling_errors',\n",
    "       'num_urgent_keywords']],df[['label']]"
   ],
   "id": "3f2f278a6f45445",
   "outputs": [],
   "execution_count": 20
  },
  {
   "metadata": {
    "ExecuteTime": {
     "end_time": "2025-05-10T17:35:15.879514Z",
     "start_time": "2025-05-10T17:35:15.443062Z"
    }
   },
   "cell_type": "code",
   "source": [
    "from imblearn.over_sampling import SMOTE\n",
    "smote = SMOTE()\n",
    "X_resampled, y_resampled = smote.fit_resample(X,y)"
   ],
   "id": "ad43b218a4896b9",
   "outputs": [],
   "execution_count": 29
  },
  {
   "metadata": {
    "ExecuteTime": {
     "end_time": "2025-05-10T17:35:17.353046Z",
     "start_time": "2025-05-10T17:35:17.200450Z"
    }
   },
   "cell_type": "code",
   "source": [
    "from sklearn.model_selection import train_test_split \n",
    "X_train,X_test,y_train,y_test = train_test_split(X_resampled,y_resampled,test_size=.3,random_state=0)"
   ],
   "id": "768515baeedfc10b",
   "outputs": [],
   "execution_count": 30
  },
  {
   "metadata": {
    "ExecuteTime": {
     "end_time": "2025-05-10T17:36:11.127523Z",
     "start_time": "2025-05-10T17:36:07.825047Z"
    }
   },
   "cell_type": "code",
   "source": [
    "from sklearn.tree import DecisionTreeClassifier\n",
    "model = DecisionTreeClassifier(class_weight='balanced')\n",
    "model.fit(X_train,y_train)"
   ],
   "id": "2963776f65d7481c",
   "outputs": [
    {
     "data": {
      "text/plain": [
       "DecisionTreeClassifier(class_weight='balanced')"
      ]
     },
     "execution_count": 31,
     "metadata": {},
     "output_type": "execute_result"
    }
   ],
   "execution_count": 31
  },
  {
   "metadata": {
    "ExecuteTime": {
     "end_time": "2025-05-10T17:36:28.622094Z",
     "start_time": "2025-05-10T17:36:28.499889Z"
    }
   },
   "cell_type": "code",
   "source": "y_pred = model.predict(X_test)",
   "id": "475949ab162b6cde",
   "outputs": [],
   "execution_count": 32
  },
  {
   "metadata": {
    "ExecuteTime": {
     "end_time": "2025-05-10T17:36:30.477701Z",
     "start_time": "2025-05-10T17:36:29.980820Z"
    }
   },
   "cell_type": "code",
   "source": [
    "from sklearn.metrics import classification_report \n",
    "print(f\"{classification_report(y_test,y_pred)}\")"
   ],
   "id": "5d3320f7cca11639",
   "outputs": [
    {
     "name": "stdout",
     "output_type": "stream",
     "text": [
      "              precision    recall  f1-score   support\n",
      "\n",
      "           0       0.98      0.95      0.97    155373\n",
      "           1       0.96      0.98      0.97    155366\n",
      "\n",
      "    accuracy                           0.97    310739\n",
      "   macro avg       0.97      0.97      0.97    310739\n",
      "weighted avg       0.97      0.97      0.97    310739\n",
      "\n"
     ]
    }
   ],
   "execution_count": 33
  }
 ],
 "metadata": {
  "kernelspec": {
   "display_name": "Python 3",
   "language": "python",
   "name": "python3"
  },
  "language_info": {
   "codemirror_mode": {
    "name": "ipython",
    "version": 2
   },
   "file_extension": ".py",
   "mimetype": "text/x-python",
   "name": "python",
   "nbconvert_exporter": "python",
   "pygments_lexer": "ipython2",
   "version": "2.7.6"
  }
 },
 "nbformat": 4,
 "nbformat_minor": 5
}
